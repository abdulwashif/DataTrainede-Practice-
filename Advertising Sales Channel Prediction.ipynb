{
 "cells": [
  {
   "cell_type": "markdown",
   "id": "2cd749bf",
   "metadata": {},
   "source": [
    "### Build a model which predicts sales based on the money spent on different platforms for marketing"
   ]
  },
  {
   "cell_type": "markdown",
   "id": "50c532cb",
   "metadata": {},
   "source": [
    "Importing the important libraries for data reading and cleaning."
   ]
  },
  {
   "cell_type": "code",
   "execution_count": 56,
   "id": "f2b862e4",
   "metadata": {},
   "outputs": [],
   "source": [
    "import pandas as pd\n",
    "import numpy as np\n",
    "import matplotlib.pyplot as plt\n",
    "import seaborn as sns\n",
    "import warnings\n",
    "warnings.filterwarnings('ignore')"
   ]
  },
  {
   "cell_type": "markdown",
   "id": "2aaddf27",
   "metadata": {},
   "source": [
    "Variable assign to the link of the data"
   ]
  },
  {
   "cell_type": "code",
   "execution_count": 57,
   "id": "ad112280",
   "metadata": {
    "scrolled": true
   },
   "outputs": [
    {
     "data": {
      "text/html": [
       "<div>\n",
       "<style scoped>\n",
       "    .dataframe tbody tr th:only-of-type {\n",
       "        vertical-align: middle;\n",
       "    }\n",
       "\n",
       "    .dataframe tbody tr th {\n",
       "        vertical-align: top;\n",
       "    }\n",
       "\n",
       "    .dataframe thead th {\n",
       "        text-align: right;\n",
       "    }\n",
       "</style>\n",
       "<table border=\"1\" class=\"dataframe\">\n",
       "  <thead>\n",
       "    <tr style=\"text-align: right;\">\n",
       "      <th></th>\n",
       "      <th>Unnamed: 0</th>\n",
       "      <th>TV</th>\n",
       "      <th>radio</th>\n",
       "      <th>newspaper</th>\n",
       "      <th>sales</th>\n",
       "    </tr>\n",
       "  </thead>\n",
       "  <tbody>\n",
       "    <tr>\n",
       "      <th>0</th>\n",
       "      <td>1</td>\n",
       "      <td>230.1</td>\n",
       "      <td>37.8</td>\n",
       "      <td>69.2</td>\n",
       "      <td>22.1</td>\n",
       "    </tr>\n",
       "    <tr>\n",
       "      <th>1</th>\n",
       "      <td>2</td>\n",
       "      <td>44.5</td>\n",
       "      <td>39.3</td>\n",
       "      <td>45.1</td>\n",
       "      <td>10.4</td>\n",
       "    </tr>\n",
       "    <tr>\n",
       "      <th>2</th>\n",
       "      <td>3</td>\n",
       "      <td>17.2</td>\n",
       "      <td>45.9</td>\n",
       "      <td>69.3</td>\n",
       "      <td>9.3</td>\n",
       "    </tr>\n",
       "    <tr>\n",
       "      <th>3</th>\n",
       "      <td>4</td>\n",
       "      <td>151.5</td>\n",
       "      <td>41.3</td>\n",
       "      <td>58.5</td>\n",
       "      <td>18.5</td>\n",
       "    </tr>\n",
       "    <tr>\n",
       "      <th>4</th>\n",
       "      <td>5</td>\n",
       "      <td>180.8</td>\n",
       "      <td>10.8</td>\n",
       "      <td>58.4</td>\n",
       "      <td>12.9</td>\n",
       "    </tr>\n",
       "    <tr>\n",
       "      <th>...</th>\n",
       "      <td>...</td>\n",
       "      <td>...</td>\n",
       "      <td>...</td>\n",
       "      <td>...</td>\n",
       "      <td>...</td>\n",
       "    </tr>\n",
       "    <tr>\n",
       "      <th>195</th>\n",
       "      <td>196</td>\n",
       "      <td>38.2</td>\n",
       "      <td>3.7</td>\n",
       "      <td>13.8</td>\n",
       "      <td>7.6</td>\n",
       "    </tr>\n",
       "    <tr>\n",
       "      <th>196</th>\n",
       "      <td>197</td>\n",
       "      <td>94.2</td>\n",
       "      <td>4.9</td>\n",
       "      <td>8.1</td>\n",
       "      <td>9.7</td>\n",
       "    </tr>\n",
       "    <tr>\n",
       "      <th>197</th>\n",
       "      <td>198</td>\n",
       "      <td>177.0</td>\n",
       "      <td>9.3</td>\n",
       "      <td>6.4</td>\n",
       "      <td>12.8</td>\n",
       "    </tr>\n",
       "    <tr>\n",
       "      <th>198</th>\n",
       "      <td>199</td>\n",
       "      <td>283.6</td>\n",
       "      <td>42.0</td>\n",
       "      <td>66.2</td>\n",
       "      <td>25.5</td>\n",
       "    </tr>\n",
       "    <tr>\n",
       "      <th>199</th>\n",
       "      <td>200</td>\n",
       "      <td>232.1</td>\n",
       "      <td>8.6</td>\n",
       "      <td>8.7</td>\n",
       "      <td>13.4</td>\n",
       "    </tr>\n",
       "  </tbody>\n",
       "</table>\n",
       "<p>200 rows × 5 columns</p>\n",
       "</div>"
      ],
      "text/plain": [
       "     Unnamed: 0     TV  radio  newspaper  sales\n",
       "0             1  230.1   37.8       69.2   22.1\n",
       "1             2   44.5   39.3       45.1   10.4\n",
       "2             3   17.2   45.9       69.3    9.3\n",
       "3             4  151.5   41.3       58.5   18.5\n",
       "4             5  180.8   10.8       58.4   12.9\n",
       "..          ...    ...    ...        ...    ...\n",
       "195         196   38.2    3.7       13.8    7.6\n",
       "196         197   94.2    4.9        8.1    9.7\n",
       "197         198  177.0    9.3        6.4   12.8\n",
       "198         199  283.6   42.0       66.2   25.5\n",
       "199         200  232.1    8.6        8.7   13.4\n",
       "\n",
       "[200 rows x 5 columns]"
      ]
     },
     "execution_count": 57,
     "metadata": {},
     "output_type": "execute_result"
    }
   ],
   "source": [
    "df = pd.read_csv('D:\\DATA SC_Practice Project\\\\p4\\\\Advertising.csv')\n",
    "data"
   ]
  },
  {
   "cell_type": "code",
   "execution_count": 58,
   "id": "f2025ca0",
   "metadata": {},
   "outputs": [
    {
     "name": "stdout",
     "output_type": "stream",
     "text": [
      "shape     -----> (200, 5)\n",
      "Each column and data type and its count \n",
      "\n",
      "<class 'pandas.core.frame.DataFrame'>\n",
      "RangeIndex: 200 entries, 0 to 199\n",
      "Data columns (total 5 columns):\n",
      " #   Column      Non-Null Count  Dtype  \n",
      "---  ------      --------------  -----  \n",
      " 0   Unnamed: 0  200 non-null    int64  \n",
      " 1   TV          200 non-null    float64\n",
      " 2   radio       200 non-null    float64\n",
      " 3   newspaper   200 non-null    float64\n",
      " 4   sales       200 non-null    float64\n",
      "dtypes: float64(4), int64(1)\n",
      "memory usage: 7.9 KB\n",
      "None\n"
     ]
    }
   ],
   "source": [
    "# Print summary\n",
    "print('shape     ----->',df.shape)\n",
    "print('Each column and data type and its count','\\n')\n",
    "print(df.info())"
   ]
  },
  {
   "cell_type": "code",
   "execution_count": 59,
   "id": "ffb64c33",
   "metadata": {},
   "outputs": [],
   "source": [
    "#DROP Alert 1:Unnamed:32 column has all nulls.safe to remove the column.\n",
    "df = df.drop(['Unnamed: 0'],axis=1)"
   ]
  },
  {
   "cell_type": "code",
   "execution_count": 60,
   "id": "2c45a97c",
   "metadata": {},
   "outputs": [
    {
     "data": {
      "text/html": [
       "<div>\n",
       "<style scoped>\n",
       "    .dataframe tbody tr th:only-of-type {\n",
       "        vertical-align: middle;\n",
       "    }\n",
       "\n",
       "    .dataframe tbody tr th {\n",
       "        vertical-align: top;\n",
       "    }\n",
       "\n",
       "    .dataframe thead th {\n",
       "        text-align: right;\n",
       "    }\n",
       "</style>\n",
       "<table border=\"1\" class=\"dataframe\">\n",
       "  <thead>\n",
       "    <tr style=\"text-align: right;\">\n",
       "      <th></th>\n",
       "      <th>TV</th>\n",
       "      <th>radio</th>\n",
       "      <th>newspaper</th>\n",
       "      <th>sales</th>\n",
       "    </tr>\n",
       "  </thead>\n",
       "  <tbody>\n",
       "    <tr>\n",
       "      <th>0</th>\n",
       "      <td>230.1</td>\n",
       "      <td>37.8</td>\n",
       "      <td>69.2</td>\n",
       "      <td>22.1</td>\n",
       "    </tr>\n",
       "    <tr>\n",
       "      <th>1</th>\n",
       "      <td>44.5</td>\n",
       "      <td>39.3</td>\n",
       "      <td>45.1</td>\n",
       "      <td>10.4</td>\n",
       "    </tr>\n",
       "    <tr>\n",
       "      <th>2</th>\n",
       "      <td>17.2</td>\n",
       "      <td>45.9</td>\n",
       "      <td>69.3</td>\n",
       "      <td>9.3</td>\n",
       "    </tr>\n",
       "    <tr>\n",
       "      <th>3</th>\n",
       "      <td>151.5</td>\n",
       "      <td>41.3</td>\n",
       "      <td>58.5</td>\n",
       "      <td>18.5</td>\n",
       "    </tr>\n",
       "    <tr>\n",
       "      <th>4</th>\n",
       "      <td>180.8</td>\n",
       "      <td>10.8</td>\n",
       "      <td>58.4</td>\n",
       "      <td>12.9</td>\n",
       "    </tr>\n",
       "    <tr>\n",
       "      <th>...</th>\n",
       "      <td>...</td>\n",
       "      <td>...</td>\n",
       "      <td>...</td>\n",
       "      <td>...</td>\n",
       "    </tr>\n",
       "    <tr>\n",
       "      <th>195</th>\n",
       "      <td>38.2</td>\n",
       "      <td>3.7</td>\n",
       "      <td>13.8</td>\n",
       "      <td>7.6</td>\n",
       "    </tr>\n",
       "    <tr>\n",
       "      <th>196</th>\n",
       "      <td>94.2</td>\n",
       "      <td>4.9</td>\n",
       "      <td>8.1</td>\n",
       "      <td>9.7</td>\n",
       "    </tr>\n",
       "    <tr>\n",
       "      <th>197</th>\n",
       "      <td>177.0</td>\n",
       "      <td>9.3</td>\n",
       "      <td>6.4</td>\n",
       "      <td>12.8</td>\n",
       "    </tr>\n",
       "    <tr>\n",
       "      <th>198</th>\n",
       "      <td>283.6</td>\n",
       "      <td>42.0</td>\n",
       "      <td>66.2</td>\n",
       "      <td>25.5</td>\n",
       "    </tr>\n",
       "    <tr>\n",
       "      <th>199</th>\n",
       "      <td>232.1</td>\n",
       "      <td>8.6</td>\n",
       "      <td>8.7</td>\n",
       "      <td>13.4</td>\n",
       "    </tr>\n",
       "  </tbody>\n",
       "</table>\n",
       "<p>200 rows × 4 columns</p>\n",
       "</div>"
      ],
      "text/plain": [
       "        TV  radio  newspaper  sales\n",
       "0    230.1   37.8       69.2   22.1\n",
       "1     44.5   39.3       45.1   10.4\n",
       "2     17.2   45.9       69.3    9.3\n",
       "3    151.5   41.3       58.5   18.5\n",
       "4    180.8   10.8       58.4   12.9\n",
       "..     ...    ...        ...    ...\n",
       "195   38.2    3.7       13.8    7.6\n",
       "196   94.2    4.9        8.1    9.7\n",
       "197  177.0    9.3        6.4   12.8\n",
       "198  283.6   42.0       66.2   25.5\n",
       "199  232.1    8.6        8.7   13.4\n",
       "\n",
       "[200 rows x 4 columns]"
      ]
     },
     "execution_count": 60,
     "metadata": {},
     "output_type": "execute_result"
    }
   ],
   "source": [
    "df"
   ]
  },
  {
   "cell_type": "code",
   "execution_count": 61,
   "id": "d1f829a7",
   "metadata": {},
   "outputs": [
    {
     "data": {
      "text/plain": [
       "(200, 4)"
      ]
     },
     "execution_count": 61,
     "metadata": {},
     "output_type": "execute_result"
    }
   ],
   "source": [
    "df.shape"
   ]
  },
  {
   "cell_type": "markdown",
   "id": "b62c54da",
   "metadata": {},
   "source": [
    "There are 200 Rows and 4 columns in this Data set"
   ]
  },
  {
   "cell_type": "code",
   "execution_count": 62,
   "id": "2a865982",
   "metadata": {},
   "outputs": [
    {
     "data": {
      "text/plain": [
       "TV           0\n",
       "radio        0\n",
       "newspaper    0\n",
       "sales        0\n",
       "dtype: int64"
      ]
     },
     "execution_count": 62,
     "metadata": {},
     "output_type": "execute_result"
    }
   ],
   "source": [
    "df.isnull().sum()"
   ]
  },
  {
   "cell_type": "code",
   "execution_count": 63,
   "id": "b11622f2",
   "metadata": {},
   "outputs": [
    {
     "data": {
      "text/html": [
       "<div>\n",
       "<style scoped>\n",
       "    .dataframe tbody tr th:only-of-type {\n",
       "        vertical-align: middle;\n",
       "    }\n",
       "\n",
       "    .dataframe tbody tr th {\n",
       "        vertical-align: top;\n",
       "    }\n",
       "\n",
       "    .dataframe thead th {\n",
       "        text-align: right;\n",
       "    }\n",
       "</style>\n",
       "<table border=\"1\" class=\"dataframe\">\n",
       "  <thead>\n",
       "    <tr style=\"text-align: right;\">\n",
       "      <th></th>\n",
       "      <th>TV</th>\n",
       "      <th>radio</th>\n",
       "      <th>newspaper</th>\n",
       "      <th>sales</th>\n",
       "    </tr>\n",
       "  </thead>\n",
       "  <tbody>\n",
       "    <tr>\n",
       "      <th>count</th>\n",
       "      <td>200.000000</td>\n",
       "      <td>200.000000</td>\n",
       "      <td>200.000000</td>\n",
       "      <td>200.000000</td>\n",
       "    </tr>\n",
       "    <tr>\n",
       "      <th>mean</th>\n",
       "      <td>147.042500</td>\n",
       "      <td>23.264000</td>\n",
       "      <td>30.554000</td>\n",
       "      <td>14.022500</td>\n",
       "    </tr>\n",
       "    <tr>\n",
       "      <th>std</th>\n",
       "      <td>85.854236</td>\n",
       "      <td>14.846809</td>\n",
       "      <td>21.778621</td>\n",
       "      <td>5.217457</td>\n",
       "    </tr>\n",
       "    <tr>\n",
       "      <th>min</th>\n",
       "      <td>0.700000</td>\n",
       "      <td>0.000000</td>\n",
       "      <td>0.300000</td>\n",
       "      <td>1.600000</td>\n",
       "    </tr>\n",
       "    <tr>\n",
       "      <th>25%</th>\n",
       "      <td>74.375000</td>\n",
       "      <td>9.975000</td>\n",
       "      <td>12.750000</td>\n",
       "      <td>10.375000</td>\n",
       "    </tr>\n",
       "    <tr>\n",
       "      <th>50%</th>\n",
       "      <td>149.750000</td>\n",
       "      <td>22.900000</td>\n",
       "      <td>25.750000</td>\n",
       "      <td>12.900000</td>\n",
       "    </tr>\n",
       "    <tr>\n",
       "      <th>75%</th>\n",
       "      <td>218.825000</td>\n",
       "      <td>36.525000</td>\n",
       "      <td>45.100000</td>\n",
       "      <td>17.400000</td>\n",
       "    </tr>\n",
       "    <tr>\n",
       "      <th>max</th>\n",
       "      <td>296.400000</td>\n",
       "      <td>49.600000</td>\n",
       "      <td>114.000000</td>\n",
       "      <td>27.000000</td>\n",
       "    </tr>\n",
       "  </tbody>\n",
       "</table>\n",
       "</div>"
      ],
      "text/plain": [
       "               TV       radio   newspaper       sales\n",
       "count  200.000000  200.000000  200.000000  200.000000\n",
       "mean   147.042500   23.264000   30.554000   14.022500\n",
       "std     85.854236   14.846809   21.778621    5.217457\n",
       "min      0.700000    0.000000    0.300000    1.600000\n",
       "25%     74.375000    9.975000   12.750000   10.375000\n",
       "50%    149.750000   22.900000   25.750000   12.900000\n",
       "75%    218.825000   36.525000   45.100000   17.400000\n",
       "max    296.400000   49.600000  114.000000   27.000000"
      ]
     },
     "execution_count": 63,
     "metadata": {},
     "output_type": "execute_result"
    }
   ],
   "source": [
    "df.describe()"
   ]
  },
  {
   "cell_type": "markdown",
   "id": "002265a6",
   "metadata": {},
   "source": [
    "\n",
    "Most of the data, barring newspaper, is normally or close to normally distributed.\n",
    "\n",
    "There is a min value of 0.00 in radio which needs to be checked as it cannot be 0"
   ]
  },
  {
   "cell_type": "code",
   "execution_count": 64,
   "id": "23a5da9f",
   "metadata": {},
   "outputs": [
    {
     "data": {
      "text/plain": [
       "TV           0\n",
       "radio        1\n",
       "newspaper    0\n",
       "sales        0\n",
       "dtype: int64"
      ]
     },
     "execution_count": 64,
     "metadata": {},
     "output_type": "execute_result"
    }
   ],
   "source": [
    "(df == 0).sum(axis=0)"
   ]
  },
  {
   "cell_type": "markdown",
   "id": "2107b573",
   "metadata": {},
   "source": [
    "There is only 1 value of 0 in the dataset. It can be ignored."
   ]
  },
  {
   "cell_type": "markdown",
   "id": "11311a88",
   "metadata": {},
   "source": [
    "# EDA"
   ]
  },
  {
   "cell_type": "code",
   "execution_count": 65,
   "id": "95c85fec",
   "metadata": {},
   "outputs": [
    {
     "data": {
      "image/png": "[encoded data removed]",
      "text/plain": [
       "<Figure size 432x288 with 1 Axes>"
      ]
     },
     "metadata": {
      "needs_background": "light"
     },
     "output_type": "display_data"
    },
    {
     "data": {
      "image/png": "[encoded data removed]",
      "text/plain": [
       "<Figure size 432x288 with 1 Axes>"
      ]
     },
     "metadata": {
      "needs_background": "light"
     },
     "output_type": "display_data"
    },
    {
     "data": {
      "image/png": "[encoded data removed]",
      "text/plain": [
       "<Figure size 432x288 with 1 Axes>"
      ]
     },
     "metadata": {
      "needs_background": "light"
     },
     "output_type": "display_data"
    }
   ],
   "source": [
    "columns = ['TV','radio','newspaper']\n",
    "for i in columns:\n",
    "    sns.boxplot(df[i])\n",
    "    plt.show()"
   ]
  },
  {
   "cell_type": "markdown",
   "id": "dc6edca8",
   "metadata": {},
   "source": [
    "There are minor outliers present in newspaper."
   ]
  },
  {
   "cell_type": "code",
   "execution_count": 66,
   "id": "8fc31e50",
   "metadata": {},
   "outputs": [
    {
     "data": {
      "text/plain": [
       "<seaborn.axisgrid.PairGrid at 0x20706463760>"
      ]
     },
     "execution_count": 66,
     "metadata": {},
     "output_type": "execute_result"
    },
    {
     "data": {
      "image/png": "[encoded data removed]",
      "text/plain": [
       "<Figure size 720x720 with 20 Axes>"
      ]
     },
     "metadata": {
      "needs_background": "light"
     },
     "output_type": "display_data"
    }
   ],
   "source": [
    "#Lets check the relationship of all the features with each other using pairplot\n",
    "sns.pairplot(df)"
   ]
  },
  {
   "cell_type": "markdown",
   "id": "c1a87b6d",
   "metadata": {},
   "source": [
    "TV has good linear relationship with Sales followed by Radio."
   ]
  },
  {
   "cell_type": "code",
   "execution_count": 67,
   "id": "bf54f0bb",
   "metadata": {},
   "outputs": [
    {
     "data": {
      "image/png": "[encoded data removed]",
      "text/plain": [
       "<Figure size 864x576 with 4 Axes>"
      ]
     },
     "metadata": {
      "needs_background": "light"
     },
     "output_type": "display_data"
    }
   ],
   "source": [
    "df.hist( bins = 12, figsize = (12,8))\n",
    "plt.show()"
   ]
  },
  {
   "cell_type": "markdown",
   "id": "a0460172",
   "metadata": {},
   "source": [
    "Spending is more on TV and Radio and less on Newspaper"
   ]
  },
  {
   "cell_type": "code",
   "execution_count": 68,
   "id": "d1e1de1d",
   "metadata": {},
   "outputs": [
    {
     "data": {
      "image/png": "[encoded data removed]",
      "text/plain": [
       "<Figure size 432x288 with 1 Axes>"
      ]
     },
     "metadata": {
      "needs_background": "light"
     },
     "output_type": "display_data"
    },
    {
     "data": {
      "image/png": "[encoded data removed]",
      "text/plain": [
       "<Figure size 432x288 with 1 Axes>"
      ]
     },
     "metadata": {
      "needs_background": "light"
     },
     "output_type": "display_data"
    },
    {
     "data": {
      "image/png": "[encoded data removed]",
      "text/plain": [
       "<Figure size 432x288 with 1 Axes>"
      ]
     },
     "metadata": {
      "needs_background": "light"
     },
     "output_type": "display_data"
    }
   ],
   "source": [
    "for i in columns:\n",
    "    plt.scatter(x=df[i], y=df['sales'], c='orange')\n",
    "    plt.show()"
   ]
  },
  {
   "cell_type": "code",
   "execution_count": 69,
   "id": "602a167c",
   "metadata": {},
   "outputs": [
    {
     "data": {
      "text/plain": [
       "<AxesSubplot:>"
      ]
     },
     "execution_count": 69,
     "metadata": {},
     "output_type": "execute_result"
    },
    {
     "data": {
      "image/png": "[encoded data removed]",
      "text/plain": [
       "<Figure size 432x288 with 2 Axes>"
      ]
     },
     "metadata": {
      "needs_background": "light"
     },
     "output_type": "display_data"
    }
   ],
   "source": [
    "corr = df.corr()\n",
    "sns.heatmap(corr,annot=True)"
   ]
  },
  {
   "cell_type": "markdown",
   "id": "e62e0515",
   "metadata": {},
   "source": [
    "As confirmed by other visualiztion, TV is the most co related with sales.\n",
    "\n",
    "No other features are corelated with each other."
   ]
  },
  {
   "cell_type": "markdown",
   "id": "f200143d",
   "metadata": {},
   "source": [
    "# Data Cleaning"
   ]
  },
  {
   "cell_type": "markdown",
   "id": "a60c0e64",
   "metadata": {},
   "source": [
    "Lets check for skewness now."
   ]
  },
  {
   "cell_type": "code",
   "execution_count": 70,
   "id": "aaccc16b",
   "metadata": {},
   "outputs": [
    {
     "data": {
      "text/plain": [
       "TV          -0.069853\n",
       "radio        0.094175\n",
       "newspaper    0.894720\n",
       "sales        0.407571\n",
       "dtype: float64"
      ]
     },
     "execution_count": 70,
     "metadata": {},
     "output_type": "execute_result"
    }
   ],
   "source": [
    "df.skew()"
   ]
  },
  {
   "cell_type": "markdown",
   "id": "7be714e1",
   "metadata": {},
   "source": [
    "There is skewness present is newspaper and we will have to remove it.\n"
   ]
  },
  {
   "cell_type": "markdown",
   "id": "edfce28d",
   "metadata": {},
   "source": [
    "# Normal Distribution Curve:"
   ]
  },
  {
   "cell_type": "code",
   "execution_count": 71,
   "id": "8cdebdcc",
   "metadata": {},
   "outputs": [
    {
     "data": {
      "text/plain": [
       "<AxesSubplot:xlabel='TV', ylabel='Density'>"
      ]
     },
     "execution_count": 71,
     "metadata": {},
     "output_type": "execute_result"
    },
    {
     "data": {
      "image/png": "[encoded data removed]",
      "text/plain": [
       "<Figure size 432x288 with 1 Axes>"
      ]
     },
     "metadata": {
      "needs_background": "light"
     },
     "output_type": "display_data"
    }
   ],
   "source": [
    "sns.distplot(df[\"TV\"])"
   ]
  },
  {
   "cell_type": "code",
   "execution_count": 72,
   "id": "394fb2f6",
   "metadata": {},
   "outputs": [
    {
     "data": {
      "text/plain": [
       "<AxesSubplot:xlabel='radio', ylabel='Density'>"
      ]
     },
     "execution_count": 72,
     "metadata": {},
     "output_type": "execute_result"
    },
    {
     "data": {
      "image/png": "[encoded data removed]",
      "text/plain": [
       "<Figure size 432x288 with 1 Axes>"
      ]
     },
     "metadata": {
      "needs_background": "light"
     },
     "output_type": "display_data"
    }
   ],
   "source": [
    "sns.distplot(df[\"radio\"])"
   ]
  },
  {
   "cell_type": "code",
   "execution_count": 73,
   "id": "deff5a07",
   "metadata": {},
   "outputs": [
    {
     "data": {
      "text/plain": [
       "<AxesSubplot:xlabel='newspaper', ylabel='Density'>"
      ]
     },
     "execution_count": 73,
     "metadata": {},
     "output_type": "execute_result"
    },
    {
     "data": {
      "image/png": "[encoded data removed]",
      "text/plain": [
       "<Figure size 432x288 with 1 Axes>"
      ]
     },
     "metadata": {
      "needs_background": "light"
     },
     "output_type": "display_data"
    }
   ],
   "source": [
    "sns.distplot(df[\"newspaper\"])"
   ]
  },
  {
   "cell_type": "code",
   "execution_count": 74,
   "id": "e97c4c8e",
   "metadata": {},
   "outputs": [
    {
     "data": {
      "text/plain": [
       "<AxesSubplot:xlabel='sales', ylabel='Density'>"
      ]
     },
     "execution_count": 74,
     "metadata": {},
     "output_type": "execute_result"
    },
    {
     "data": {
      "image/png": "[encoded data removed]",
      "text/plain": [
       "<Figure size 432x288 with 1 Axes>"
      ]
     },
     "metadata": {
      "needs_background": "light"
     },
     "output_type": "display_data"
    }
   ],
   "source": [
    "sns.distplot(df[\"sales\"])"
   ]
  },
  {
   "cell_type": "markdown",
   "id": "59e13a10",
   "metadata": {},
   "source": [
    "The data is not normalised. The building blocks is out of the normalised curve.\n",
    "we will remove the skew using cuberoot method"
   ]
  },
  {
   "cell_type": "code",
   "execution_count": 75,
   "id": "386946f5",
   "metadata": {},
   "outputs": [],
   "source": [
    "\n",
    "df['newspaper']=np.sqrt(df['newspaper'])"
   ]
  },
  {
   "cell_type": "code",
   "execution_count": 76,
   "id": "02a884b1",
   "metadata": {},
   "outputs": [
    {
     "data": {
      "text/plain": [
       "TV          -0.069853\n",
       "radio        0.094175\n",
       "newspaper    0.062388\n",
       "sales        0.407571\n",
       "dtype: float64"
      ]
     },
     "execution_count": 76,
     "metadata": {},
     "output_type": "execute_result"
    }
   ],
   "source": [
    "df.skew()"
   ]
  },
  {
   "cell_type": "code",
   "execution_count": 77,
   "id": "706c19fd",
   "metadata": {},
   "outputs": [
    {
     "data": {
      "image/png": "[encoded data removed]",
      "text/plain": [
       "<Figure size 432x288 with 1 Axes>"
      ]
     },
     "metadata": {
      "needs_background": "light"
     },
     "output_type": "display_data"
    },
    {
     "data": {
      "image/png": "[encoded data removed]",
      "text/plain": [
       "<Figure size 432x288 with 1 Axes>"
      ]
     },
     "metadata": {
      "needs_background": "light"
     },
     "output_type": "display_data"
    },
    {
     "data": {
      "image/png": "[encoded data removed]",
      "text/plain": [
       "<Figure size 432x288 with 1 Axes>"
      ]
     },
     "metadata": {
      "needs_background": "light"
     },
     "output_type": "display_data"
    }
   ],
   "source": [
    "for i in columns:\n",
    "    sns.distplot(df[i])\n",
    "    plt.show()"
   ]
  },
  {
   "cell_type": "markdown",
   "id": "4c2e5ff0",
   "metadata": {},
   "source": [
    "All our input features are normally distributed. Now we will move to model building\n",
    "\n",
    "Splitting our data into input(x) and output(y) variable"
   ]
  },
  {
   "cell_type": "code",
   "execution_count": 78,
   "id": "9a40cfcf",
   "metadata": {},
   "outputs": [],
   "source": [
    "x=df.drop(columns='sales')\n",
    "y=df['sales']"
   ]
  },
  {
   "cell_type": "markdown",
   "id": "b6882249",
   "metadata": {},
   "source": [
    "\n",
    "Now we will standardize our data.\n",
    "\n",
    "We wil be using StandardScaler for the same."
   ]
  },
  {
   "cell_type": "code",
   "execution_count": 79,
   "id": "23b2b0d9",
   "metadata": {},
   "outputs": [],
   "source": [
    "from sklearn.preprocessing import StandardScaler\n",
    "sc=StandardScaler()\n",
    "X=sc.fit_transform(x)"
   ]
  },
  {
   "cell_type": "code",
   "execution_count": 80,
   "id": "5a151bc8",
   "metadata": {},
   "outputs": [
    {
     "data": {
      "text/plain": [
       "array([[ 9.69852266e-01,  9.81522472e-01,  1.56309461e+00],\n",
       "       [-1.19737623e+00,  1.08280781e+00,  7.74855194e-01],\n",
       "       [-1.51615499e+00,  1.52846331e+00,  1.56604912e+00],\n",
       "       [ 5.20496822e-02,  1.21785493e+00,  1.23357596e+00],\n",
       "       [ 3.94182198e-01, -8.41613655e-01,  1.23036007e+00],\n",
       "       [-1.61540845e+00,  1.73103399e+00,  1.73106889e+00],\n",
       "       [-1.04557682e+00,  6.43904671e-01, -1.43678801e-01],\n",
       "       [-3.13436589e-01, -2.47406325e-01, -8.52652825e-01],\n",
       "       [-1.61657614e+00, -1.42906863e+00, -2.03568892e+00],\n",
       "       [ 6.16042873e-01, -1.39530685e+00, -2.63332869e-01],\n",
       "       [-9.45155670e-01, -1.17923146e+00, -1.08436840e-01],\n",
       "       [ 7.90028350e-01,  4.96973404e-02, -1.54396138e+00],\n",
       "       [-1.43908760e+00,  7.99208859e-01,  1.46436938e+00],\n",
       "       [-5.78501712e-01, -1.05768905e+00, -1.20797302e+00],\n",
       "       [ 6.66253447e-01,  6.50657027e-01,  8.07641928e-01],\n",
       "       [ 5.64664612e-01,  1.65000572e+00,  1.04903522e+00],\n",
       "       [-9.25304978e-01,  9.00494200e-01,  2.72279688e+00],\n",
       "       [ 1.56887609e+00,  1.10306488e+00,  1.14575858e+00],\n",
       "       [-9.08957349e-01, -1.86635121e-01, -4.23879865e-01],\n",
       "       [ 3.00679600e-03,  4.29449843e-02, -3.78392733e-01],\n",
       "       [ 8.33232798e-01,  2.99534513e-01,  1.06589741e+00],\n",
       "       [ 1.05509347e+00, -1.22649795e+00, -1.43678801e-01],\n",
       "       [-1.56286250e+00, -4.97243498e-01,  9.35686184e-01],\n",
       "       [ 9.48833887e-01, -4.29719938e-01, -1.04630767e-02],\n",
       "       [-9.89527805e-01, -7.20071247e-01, -4.23879865e-01],\n",
       "       [ 1.35285385e+00, -1.33453565e+00, -3.56006466e-01],\n",
       "       [-4.83714657e-02,  4.07572210e-01, -7.81956865e-01],\n",
       "       [ 1.08662104e+00, -4.43224650e-01, -1.74306253e-01],\n",
       "       [ 1.18820988e+00,  2.59020377e-01, -1.74306253e-01],\n",
       "       [-8.92609721e-01, -4.90491142e-01,  6.13487141e-01],\n",
       "       [ 1.70316018e+00,  3.40048650e-01,  7.04546681e-01],\n",
       "       [-3.98677796e-01, -3.95958157e-01,  5.27632526e-01],\n",
       "       [-5.82004775e-01, -1.46958277e+00,  1.65886160e-01],\n",
       "       [ 1.38438142e+00, -2.20396901e-01, -2.25808619e+00],\n",
       "       [-5.99520091e-01, -1.47633512e+00, -1.18977295e+00],\n",
       "       [ 1.67747105e+00, -1.29402151e+00, -1.09379666e+00],\n",
       "       [ 1.39956136e+00,  1.38666383e+00, -1.42788026e+00],\n",
       "       [-8.44734522e-01,  1.76479577e+00,  7.96748948e-01],\n",
       "       [-1.21372386e+00,  2.32010953e-01,  3.85835748e-01],\n",
       "       [ 9.45330823e-01,  9.74770116e-01,  2.54214524e-01],\n",
       "       [ 6.47570443e-01, -6.50927121e-02,  2.36774660e-01],\n",
       "       [ 3.49810063e-01,  6.84418807e-01,  5.31587283e-01],\n",
       "       [ 1.71133400e+00,  2.99534513e-01, -1.86769474e+00],\n",
       "       [ 6.98948705e-01, -1.00367020e+00, -8.74648181e-04],\n",
       "       [-1.42390765e+00,  1.64487393e-01,  7.08285217e-01],\n",
       "       [ 3.27623995e-01, -5.15880000e-02,  2.32397474e-01],\n",
       "       [-6.69581357e-01, -9.02384859e-01,  4.10629831e-01],\n",
       "       [ 1.08428567e+00,  1.23135965e+00, -4.12416366e-01],\n",
       "       [ 9.35989321e-01, -5.03995854e-01,  9.46143488e-01],\n",
       "       [-9.35814168e-01, -7.80842451e-01,  4.55550447e-01],\n",
       "       [ 6.16042873e-01, -1.36154507e+00,  3.65011663e-01],\n",
       "       [-5.44638766e-01, -9.22641928e-01, -1.59442906e+00],\n",
       "       [ 8.09879042e-01,  1.24486436e+00,  5.66952663e-01],\n",
       "       [ 4.15200577e-01,  1.54872038e+00,  1.23999953e+00],\n",
       "       [ 1.35051848e+00,  3.73810430e-01, -5.66662552e-01],\n",
       "       [ 6.05533683e-01,  1.76479577e+00,  1.28148863e+00],\n",
       "       [-1.63175608e+00,  3.26543937e-01,  6.36497731e-01],\n",
       "       [-1.26606546e-01, -2.74415749e-01, -5.23966170e-01],\n",
       "       [ 7.44488528e-01,  1.77830048e+00,  4.91806608e-01],\n",
       "       [ 7.43320840e-01,  4.21076922e-01, -1.02784902e+00],\n",
       "       [-1.09228433e+00, -1.43582099e+00, -2.52678300e-01],\n",
       "       [ 1.33417085e+00,  1.31238792e+00,  1.10937324e+00],\n",
       "       [ 1.07727954e+00, -5.24252922e-01,  4.18304911e-02],\n",
       "       [-5.17781948e-01,  4.27829278e-01, -1.10225467e+00],\n",
       "       [-1.86158622e-01,  1.31914027e+00,  1.16047828e-01],\n",
       "       [-9.11292725e-01, -9.42898996e-01, -2.06092275e+00],\n",
       "       [-1.34917564e+00,  9.02114765e-02, -1.79806665e+00],\n",
       "       [-9.04082253e-02, -5.91776482e-01, -9.56964653e-01],\n",
       "       [ 1.05509347e+00,  2.86029801e-01, -8.96540728e-01],\n",
       "       [ 8.14549794e-01,  1.39341619e+00,  3.71205936e-02],\n",
       "       [ 6.07869059e-01,  4.95352838e-01,  5.31587283e-01],\n",
       "       [-4.34876116e-01, -6.05281194e-01,  2.41144925e-01],\n",
       "       [-1.40405696e+00,  6.57409383e-01, -3.67170601e-01],\n",
       "       [-2.06009314e-01, -1.18598381e+00,  2.23622209e-01],\n",
       "       [ 7.74848409e-01,  9.02114765e-02, -7.47661651e-01],\n",
       "       [-1.51965805e+00,  1.37991148e+00,  2.12194471e+00],\n",
       "       [-1.39588315e+00, -1.46283041e+00, -2.90191276e-01],\n",
       "       [-3.09933525e-01,  3.53553362e-01, -6.74445131e-01],\n",
       "       [-1.65394214e+00,  4.48086346e-01, -1.01980839e+00],\n",
       "       [-3.62479475e-01, -1.05093669e+00, -1.64053001e-01],\n",
       "       [-8.24883830e-01,  2.32010953e-01, -2.05337635e-01],\n",
       "       [ 1.08311798e+00, -1.29402151e+00,  4.59600641e-01],\n",
       "       [-8.37728396e-01, -2.00139833e-01,  2.75861785e-01],\n",
       "       [-9.18298852e-01,  1.43393033e+00,  4.06512034e-01],\n",
       "       [ 7.76016097e-01,  1.33264499e+00,  3.31377634e-01],\n",
       "       [ 5.38975481e-01, -3.28434597e-01,  1.45830743e+00],\n",
       "       [-8.26051518e-01,  2.86029801e-01, -5.60506324e-01],\n",
       "       [-4.24366926e-01,  1.17058844e+00,  1.38174010e+00],\n",
       "       [-6.85928986e-01,  1.50982681e-01,  1.68540016e+00],\n",
       "       [-4.34876116e-01,  1.65675807e+00,  9.97964748e-01],\n",
       "       [-1.48792614e-01, -1.24000266e+00, -1.02784902e+00],\n",
       "       [-1.38303858e+00, -1.46958277e+00,  2.97343158e-01],\n",
       "       [ 8.25058983e-01,  6.91171163e-01,  1.24961438e+00],\n",
       "       [ 1.21273132e+00,  8.93741844e-01,  1.65371357e+00],\n",
       "       [-4.62900623e-01, -6.25538262e-01, -9.03970725e-01],\n",
       "       [ 1.89836839e-01,  5.62876398e-01,  1.04903522e+00],\n",
       "       [ 5.90353742e-01, -1.33453565e+00, -1.33301442e+00],\n",
       "       [ 4.42057396e-01, -1.52873340e-01, -2.21009887e-01],\n",
       "       [ 1.66579418e+00,  1.28537849e+00,  9.91099345e-01],\n",
       "       [-1.38283424e-01,  1.24486436e+00,  8.04014892e-01],\n",
       "       [ 8.79940308e-01, -1.28051680e+00,  9.42661222e-01],\n",
       "       [ 1.74402926e+00,  8.80237132e-01,  2.41193703e+00],\n",
       "       [ 1.55486384e+00, -8.88880147e-01, -2.52678300e-01],\n",
       "       [ 4.77088029e-01, -4.09462869e-01, -4.46996354e-01],\n",
       "       [ 1.06443498e+00,  7.45190011e-01, -1.39537466e+00],\n",
       "       [-1.06755854e-01,  1.56222509e+00,  1.24961438e+00],\n",
       "       [-1.42507534e+00, -8.28108943e-01,  1.52385811e-01],\n",
       "       [-6.61407543e-01, -1.55061104e+00, -1.58943020e-01],\n",
       "       [-1.56403019e+00, -1.54385868e+00, -3.94500707e-02],\n",
       "       [ 1.26527727e+00,  2.45515665e-01, -1.37421317e+00],\n",
       "       [ 9.19641692e-01, -1.01717491e+00,  1.16872641e+00],\n",
       "       [ 1.10530405e+00,  9.95027184e-01, -1.58943020e-01],\n",
       "       [ 3.34630122e-01, -5.31005278e-01, -1.76563543e+00],\n",
       "       [ 7.30476274e-01, -1.79882765e-01, -9.18933677e-01],\n",
       "       [-8.03865450e-01,  1.58923451e+00,  3.60828829e-01],\n",
       "       [-8.40063771e-01,  7.92456503e-01,  1.04226804e+00],\n",
       "       [-9.15759131e-02, -6.05281194e-01, -3.94500707e-02],\n",
       "       [-8.24883830e-01, -1.51684926e+00, -6.35702865e-01],\n",
       "       [-2.49213762e-01,  9.20751268e-01,  1.84868232e+00],\n",
       "       [-1.49046586e+00, -4.90491142e-01, -2.05337635e-01],\n",
       "       [-6.70544700e-02,  2.38763309e-01,  8.14884191e-01],\n",
       "       [-1.49747198e+00, -1.05606848e-01,  9.63502716e-01],\n",
       "       [ 8.98623313e-01, -1.40881156e+00, -5.85248317e-01],\n",
       "       [-2.79573643e-01,  7.65447079e-01, -7.95865131e-01],\n",
       "       [ 9.62846140e-01,  6.10142891e-01,  1.70829607e+00],\n",
       "       [-6.98773552e-01, -7.74090095e-01, -2.49146030e-02],\n",
       "       [-1.62591764e+00,  1.05579839e+00,  9.70422285e-01],\n",
       "       [-7.80511695e-01, -1.57086811e+00, -1.03593300e+00],\n",
       "       [ 8.55418865e-01,  1.73778635e+00, -1.64778750e+00],\n",
       "       [-1.02105537e+00, -7.60585383e-01,  7.00803816e-01],\n",
       "       [-1.70882347e+00,  1.10306488e+00, -1.07702861e+00],\n",
       "       [ 1.37971067e+00, -1.37504978e+00,  6.97056606e-01],\n",
       "       [-1.61891151e+00,  2.65772733e-01, -1.81483556e+00],\n",
       "       [ 8.49580427e-01,  6.91171163e-01,  7.74855194e-01],\n",
       "       [-1.28612050e+00,  1.03554132e+00,  1.45527300e+00],\n",
       "       [-1.15300409e+00,  1.60273923e+00, -1.09379666e+00],\n",
       "       [-1.41806922e+00,  1.06255074e+00, -1.02784902e+00],\n",
       "       [ 1.47896413e+00,  3.80562786e-01,  1.27195443e+00],\n",
       "       [-1.21489154e+00,  1.77992105e-01, -3.01025360e-01],\n",
       "       [ 4.42057396e-01,  1.39341619e+00, -1.88628219e+00],\n",
       "       [-8.59914463e-01, -4.22967582e-01, -7.61299819e-01],\n",
       "       [ 5.44813920e-01,  8.19465927e-01,  1.74806889e+00],\n",
       "       [ 8.57754241e-01,  6.70914095e-01,  4.99804564e-01],\n",
       "       [-4.95595880e-01, -1.18598381e+00,  3.56639928e-01],\n",
       "       [-5.93681653e-01, -5.71519414e-01,  5.39481500e-01],\n",
       "       [-7.87313476e-02, -1.44257334e+00, -1.05223385e+00],\n",
       "       [ 1.08662104e+00, -1.07794612e+00, -1.07702861e+00],\n",
       "       [ 1.12281936e+00,  1.73778635e+00,  7.45435707e-01],\n",
       "       [-1.27327593e+00,  1.15033137e+00, -8.31134637e-01],\n",
       "       [-1.19504085e+00,  1.71239749e-01, -2.95601744e-01],\n",
       "       [ 1.56070228e+00, -6.32290618e-01,  4.63645352e-01],\n",
       "       [-3.04095087e-01, -1.00367020e+00,  9.04123071e-01],\n",
       "       [ 5.90353742e-01,  2.43084817e-03, -6.74445131e-01],\n",
       "       [ 2.83251860e-01,  1.10981724e+00,  4.91806608e-01],\n",
       "       [ 4.75920341e-01, -1.46120984e-01, -1.01181041e+00],\n",
       "       [-1.66912209e+00, -7.87594807e-01, -1.35343306e+00],\n",
       "       [-6.20538471e-01,  1.36640677e+00,  9.66964214e-01],\n",
       "       [ 3.21989902e-02, -1.48308748e+00, -1.03444101e-01],\n",
       "       [-1.58037782e+00,  9.20751268e-01,  7.78514222e-01],\n",
       "       [-1.79152496e-01, -3.28434597e-01,  3.65011663e-01],\n",
       "       [ 2.97264113e-01, -3.48691665e-01,  1.97126837e-01],\n",
       "       [-7.16288868e-01,  8.46475352e-01,  9.25197207e-01],\n",
       "       [ 4.82926468e-01, -3.48691665e-01, -3.94500707e-02],\n",
       "       [ 1.92172214e-01,  9.13998912e-01, -1.18977295e+00],\n",
       "       [-3.48467222e-01, -5.78271770e-01, -1.38474492e+00],\n",
       "       [ 1.02123053e+00, -1.34128800e+00,  2.00075071e+00],\n",
       "       [-1.50798117e+00,  9.68017760e-01, -2.42073402e-01],\n",
       "       [ 6.97781017e-01, -1.21974559e+00, -3.61581340e-01],\n",
       "       [ 7.98202165e-01,  2.26879163e-02,  1.20453312e+00],\n",
       "       [ 1.60273904e+00, -8.55118367e-01, -1.28343326e+00],\n",
       "       [-1.13315340e+00, -7.87594807e-01, -4.18140328e-01],\n",
       "       [ 2.03849092e-01, -1.59625696e-01,  8.58012435e-01],\n",
       "       [-1.48813048e+00, -2.13644545e-01, -4.99971899e-01],\n",
       "       [ 2.49388915e-01, -1.09145083e+00, -7.68158551e-01],\n",
       "       [ 8.79940308e-01, -1.34128800e+00, -7.47661651e-01],\n",
       "       [ 1.51633014e+00,  1.73103399e+00,  6.51745599e-01],\n",
       "       [ 1.18353913e+00,  4.68343414e-01, -3.11912423e-01],\n",
       "       [ 2.70407294e-01, -1.04418434e+00,  3.89982728e-01],\n",
       "       [ 1.51399477e+00, -1.41556392e+00, -1.33556727e-01],\n",
       "       [ 2.16693657e-01, -8.95632503e-01, -4.64503706e-01],\n",
       "       [ 1.11601758e-01, -1.39530685e+00, -1.11076317e+00],\n",
       "       [ 8.34400486e-01, -1.20624088e+00,  4.65317703e-02],\n",
       "       [-1.06075676e+00, -1.18598381e+00,  1.52385811e-01],\n",
       "       [ 1.64127273e+00,  1.33264499e+00,  1.63923092e+00],\n",
       "       [ 1.24659427e+00, -1.32616272e-01,  1.65886160e-01],\n",
       "       [ 6.76762637e-01,  1.47444446e+00, -3.50445868e-01],\n",
       "       [-8.80728498e-02, -1.42906863e+00,  8.67752879e-03],\n",
       "       [ 5.14454038e-01,  3.67058074e-01, -4.29635106e-01],\n",
       "       [ 1.62258973e+00, -6.32290618e-01, -1.58155966e+00],\n",
       "       [-1.49863967e+00, -7.53833027e-01, -1.48755990e-01],\n",
       "       [-1.25576062e+00,  1.20435022e+00, -1.34317973e+00],\n",
       "       [-8.35393020e-01, -8.41613655e-01, -1.32293490e+00],\n",
       "       [-1.51615499e+00, -1.29402151e+00,  2.36774660e-01],\n",
       "       [ 2.30705910e-01,  1.26512143e+00, -1.59442906e+00],\n",
       "       [ 3.10313024e-02,  8.32970639e-01, -1.32293490e+00],\n",
       "       [-1.27094056e+00, -1.32103093e+00, -7.00729744e-01],\n",
       "       [-6.17035408e-01, -1.24000266e+00, -1.12793536e+00],\n",
       "       [ 3.49810063e-01, -9.42898996e-01, -1.28343326e+00],\n",
       "       [ 1.59456522e+00,  1.26512143e+00,  1.47344507e+00],\n",
       "       [ 9.93206022e-01, -9.90165488e-01, -1.07702861e+00]])"
      ]
     },
     "execution_count": 80,
     "metadata": {},
     "output_type": "execute_result"
    }
   ],
   "source": [
    "X"
   ]
  },
  {
   "cell_type": "markdown",
   "id": "d5d88e61",
   "metadata": {},
   "source": [
    "# Model Building"
   ]
  },
  {
   "cell_type": "code",
   "execution_count": 81,
   "id": "491f664b",
   "metadata": {},
   "outputs": [],
   "source": [
    "#importing libraries\n",
    "from sklearn.model_selection import train_test_split\n",
    "from sklearn.linear_model import LinearRegression\n",
    "from sklearn.metrics import mean_squared_error,mean_absolute_error,r2_score"
   ]
  },
  {
   "cell_type": "markdown",
   "id": "2a578549",
   "metadata": {},
   "source": [
    "\n",
    "We will use Linear regression model to check for the best random state to fit our training and test data"
   ]
  },
  {
   "cell_type": "code",
   "execution_count": 82,
   "id": "c656a1ae",
   "metadata": {},
   "outputs": [
    {
     "name": "stdout",
     "output_type": "stream",
     "text": [
      "The training accuracy of LinearRegression is 0.8957994678890562\n",
      "The test accuracy of LinearRegression is 0.8994550077374865\n",
      "\n",
      "\n"
     ]
    }
   ],
   "source": [
    "    x_train,x_test,y_train,y_test=train_test_split(x,y,test_size=0.20,random_state=42)\n",
    "    lr=LinearRegression()\n",
    "    lr.fit(x_train,y_train)\n",
    "    pred_train=lr.predict(x_train)\n",
    "    pred_test=lr.predict(x_test)\n",
    "    train_score=r2_score(y_train,pred_train)\n",
    "    test_score=r2_score(y_test,pred_test)\n",
    "    pred_train=lr.predict(x_train)\n",
    "    pred_test=lr.predict(x_test)\n",
    "    print('The training accuracy of LinearRegression is', train_score)\n",
    "    print('The test accuracy of LinearRegression is', test_score)\n",
    "    print('\\n')"
   ]
  },
  {
   "cell_type": "markdown",
   "id": "08b25a87",
   "metadata": {},
   "source": [
    "Checking our model through DecisionTreeRegressor"
   ]
  },
  {
   "cell_type": "code",
   "execution_count": 83,
   "id": "7fc4885b",
   "metadata": {},
   "outputs": [
    {
     "name": "stdout",
     "output_type": "stream",
     "text": [
      "The training accuracy of DT is 1.0\n",
      "The test accuracy of DT is 0.9290559238046207\n"
     ]
    }
   ],
   "source": [
    "from sklearn.tree import DecisionTreeRegressor\n",
    "dt=DecisionTreeRegressor()\n",
    "dt.fit(x_train,y_train)\n",
    "pred_train=dt.predict(x_train)\n",
    "pred_test=dt.predict(x_test)\n",
    "train_score=r2_score(y_train,pred_train)\n",
    "test_score=r2_score(y_test,pred_test)\n",
    "print('The training accuracy of DT is', train_score)\n",
    "print('The test accuracy of DT is', test_score)"
   ]
  },
  {
   "cell_type": "markdown",
   "id": "f0bd6131",
   "metadata": {},
   "source": [
    "Now Let's use Random Forest Regressor model"
   ]
  },
  {
   "cell_type": "code",
   "execution_count": 84,
   "id": "c78d8b95",
   "metadata": {},
   "outputs": [
    {
     "name": "stdout",
     "output_type": "stream",
     "text": [
      "The training accuracy of RF is 0.9968294146705865\n",
      "The test accuracy of RF is 0.9835944100946996\n"
     ]
    }
   ],
   "source": [
    "from sklearn.ensemble import RandomForestRegressor\n",
    "rf=RandomForestRegressor()\n",
    "rf.fit(x_train,y_train)\n",
    "pred_train=rf.predict(x_train)\n",
    "pred_test=rf.predict(x_test)\n",
    "train_score=r2_score(y_train,pred_train)\n",
    "test_score=r2_score(y_test,pred_test)\n",
    "print('The training accuracy of RF is', train_score)\n",
    "print('The test accuracy of RF is', test_score)"
   ]
  },
  {
   "cell_type": "markdown",
   "id": "2d24068d",
   "metadata": {},
   "source": [
    "RFR has given us the best accuracy on training and testing data"
   ]
  },
  {
   "cell_type": "markdown",
   "id": "5999f1d8",
   "metadata": {},
   "source": [
    "## Cross Validation"
   ]
  },
  {
   "cell_type": "code",
   "execution_count": 85,
   "id": "6505b8bf",
   "metadata": {},
   "outputs": [],
   "source": [
    "\n",
    "from sklearn.model_selection import cross_val_score"
   ]
  },
  {
   "cell_type": "code",
   "execution_count": 86,
   "id": "41cc2a32",
   "metadata": {},
   "outputs": [
    {
     "name": "stdout",
     "output_type": "stream",
     "text": [
      "Mean Accuracy of LinearRegression()\n",
      "0.8873331295445761\n",
      "\n",
      "\n",
      "Mean Accuracy of DecisionTreeRegressor()\n",
      "0.9554782406693654\n",
      "\n",
      "\n",
      "Mean Accuracy of RandomForestRegressor()\n",
      "0.9755197731941194\n",
      "\n",
      "\n"
     ]
    }
   ],
   "source": [
    "model=(lr,dt,rf)\n",
    "for m in model:\n",
    "    score=cross_val_score(m,x,y,cv=5)\n",
    "    print('Mean Accuracy of', m)\n",
    "    print(score.mean())\n",
    "    print('\\n')"
   ]
  },
  {
   "cell_type": "markdown",
   "id": "30e37031",
   "metadata": {},
   "source": [
    "Now,lets visualize all our model performance"
   ]
  },
  {
   "cell_type": "code",
   "execution_count": 87,
   "id": "3914003b",
   "metadata": {},
   "outputs": [],
   "source": [
    "Performance={'Model':['LR','DTR','RFR'],\n",
    "           'Trainig Score':[0.89,1.0,0.99],\n",
    "           'Testing score':[0.89,0.92,0.98],\n",
    "           'CV Score':[0.88,0.95,0.97]}"
   ]
  },
  {
   "cell_type": "code",
   "execution_count": 88,
   "id": "2a633e0d",
   "metadata": {},
   "outputs": [],
   "source": [
    "Model=pd.DataFrame(data=Performance)"
   ]
  },
  {
   "cell_type": "code",
   "execution_count": 89,
   "id": "eb87b3df",
   "metadata": {},
   "outputs": [
    {
     "data": {
      "text/html": [
       "<div>\n",
       "<style scoped>\n",
       "    .dataframe tbody tr th:only-of-type {\n",
       "        vertical-align: middle;\n",
       "    }\n",
       "\n",
       "    .dataframe tbody tr th {\n",
       "        vertical-align: top;\n",
       "    }\n",
       "\n",
       "    .dataframe thead th {\n",
       "        text-align: right;\n",
       "    }\n",
       "</style>\n",
       "<table border=\"1\" class=\"dataframe\">\n",
       "  <thead>\n",
       "    <tr style=\"text-align: right;\">\n",
       "      <th></th>\n",
       "      <th>Model</th>\n",
       "      <th>Trainig Score</th>\n",
       "      <th>Testing score</th>\n",
       "      <th>CV Score</th>\n",
       "    </tr>\n",
       "  </thead>\n",
       "  <tbody>\n",
       "    <tr>\n",
       "      <th>0</th>\n",
       "      <td>LR</td>\n",
       "      <td>0.89</td>\n",
       "      <td>0.89</td>\n",
       "      <td>0.88</td>\n",
       "    </tr>\n",
       "    <tr>\n",
       "      <th>1</th>\n",
       "      <td>DTR</td>\n",
       "      <td>1.00</td>\n",
       "      <td>0.92</td>\n",
       "      <td>0.95</td>\n",
       "    </tr>\n",
       "    <tr>\n",
       "      <th>2</th>\n",
       "      <td>RFR</td>\n",
       "      <td>0.99</td>\n",
       "      <td>0.98</td>\n",
       "      <td>0.97</td>\n",
       "    </tr>\n",
       "  </tbody>\n",
       "</table>\n",
       "</div>"
      ],
      "text/plain": [
       "  Model  Trainig Score  Testing score  CV Score\n",
       "0    LR           0.89           0.89      0.88\n",
       "1   DTR           1.00           0.92      0.95\n",
       "2   RFR           0.99           0.98      0.97"
      ]
     },
     "execution_count": 89,
     "metadata": {},
     "output_type": "execute_result"
    }
   ],
   "source": [
    "Model"
   ]
  },
  {
   "cell_type": "markdown",
   "id": "8e29f80d",
   "metadata": {},
   "source": [
    "We can conclude that RandomforestRegressor Model has performed best."
   ]
  },
  {
   "cell_type": "markdown",
   "id": "0cec17e0",
   "metadata": {},
   "source": [
    "#### Normalization and HyperTuning"
   ]
  },
  {
   "cell_type": "code",
   "execution_count": 90,
   "id": "a60e6b9e",
   "metadata": {},
   "outputs": [],
   "source": [
    "#Importing the required libraries for normalizing the coefficients and Hypertuning our model\n",
    "from sklearn.model_selection import GridSearchCV\n",
    "from sklearn.linear_model import Lasso"
   ]
  },
  {
   "cell_type": "markdown",
   "id": "96b020b7",
   "metadata": {},
   "source": [
    "\n",
    "Using Lasso for Normalization"
   ]
  },
  {
   "cell_type": "code",
   "execution_count": 91,
   "id": "0f36fcb2",
   "metadata": {},
   "outputs": [
    {
     "name": "stdout",
     "output_type": "stream",
     "text": [
      "{'alpha': 1, 'random_state': 0}\n"
     ]
    }
   ],
   "source": [
    "parameters={'alpha':[.0001,.001,.01,.1,1,10],'random_state':list(range(0,10))}\n",
    "ls=Lasso()\n",
    "clf=GridSearchCV(ls,parameters)\n",
    "clf.fit(x_train,y_train)\n",
    "\n",
    "print(clf.best_params_)"
   ]
  },
  {
   "cell_type": "code",
   "execution_count": 92,
   "id": "0703f870",
   "metadata": {},
   "outputs": [
    {
     "data": {
      "text/plain": [
       "0.9003777120556115"
      ]
     },
     "execution_count": 92,
     "metadata": {},
     "output_type": "execute_result"
    }
   ],
   "source": [
    "ls=Lasso(alpha=0.1,random_state=0)\n",
    "ls.fit(x_train,y_train)\n",
    "pred_ls=ls.predict(x_test)\n",
    "lss=r2_score(y_test,pred_ls)\n",
    "lss"
   ]
  },
  {
   "cell_type": "code",
   "execution_count": 93,
   "id": "33ce02c1",
   "metadata": {},
   "outputs": [
    {
     "data": {
      "text/plain": [
       "0.888408009787705"
      ]
     },
     "execution_count": 93,
     "metadata": {},
     "output_type": "execute_result"
    }
   ],
   "source": [
    "cv_score=cross_val_score(ls,x,y,cv=5)\n",
    "cv_mean=cv_score.mean()\n",
    "cv_mean"
   ]
  },
  {
   "cell_type": "markdown",
   "id": "a95fb70b",
   "metadata": {},
   "source": [
    "We got 0.90 score for training and 0.88 through cross validation from Lasso"
   ]
  },
  {
   "cell_type": "markdown",
   "id": "d9948135",
   "metadata": {},
   "source": [
    "Select parameters for Hypertuning the RFR model"
   ]
  },
  {
   "cell_type": "code",
   "execution_count": 94,
   "id": "38267158",
   "metadata": {},
   "outputs": [],
   "source": [
    "parameters={'max_features':['auto','sqrt','log2'],'criterion':['mse','mae'],'max_depth':np.arange(2,10)}"
   ]
  },
  {
   "cell_type": "code",
   "execution_count": 95,
   "id": "afb4083b",
   "metadata": {},
   "outputs": [],
   "source": [
    "GCV=GridSearchCV(RandomForestRegressor(),parameters,cv=3)"
   ]
  },
  {
   "cell_type": "markdown",
   "id": "93e9ceed",
   "metadata": {},
   "source": [
    "\n",
    "Fitting the model to Grid Seach to check for the best parameters"
   ]
  },
  {
   "cell_type": "code",
   "execution_count": 96,
   "id": "66acc6fa",
   "metadata": {},
   "outputs": [
    {
     "data": {
      "text/plain": [
       "GridSearchCV(cv=3, estimator=RandomForestRegressor(),\n",
       "             param_grid={'criterion': ['mse', 'mae'],\n",
       "                         'max_depth': array([2, 3, 4, 5, 6, 7, 8, 9]),\n",
       "                         'max_features': ['auto', 'sqrt', 'log2']})"
      ]
     },
     "execution_count": 96,
     "metadata": {},
     "output_type": "execute_result"
    }
   ],
   "source": [
    "GCV.fit(x_train,y_train)"
   ]
  },
  {
   "cell_type": "code",
   "execution_count": 97,
   "id": "09172b56",
   "metadata": {},
   "outputs": [
    {
     "data": {
      "text/plain": [
       "{'criterion': 'mse', 'max_depth': 8, 'max_features': 'auto'}"
      ]
     },
     "execution_count": 97,
     "metadata": {},
     "output_type": "execute_result"
    }
   ],
   "source": [
    "GCV.best_params_"
   ]
  },
  {
   "cell_type": "markdown",
   "id": "23e58b84",
   "metadata": {},
   "source": [
    "The above gave us the best parameters to fit the model"
   ]
  },
  {
   "cell_type": "markdown",
   "id": "00b764fd",
   "metadata": {},
   "source": [
    "Now,Lets build our model using this parameters"
   ]
  },
  {
   "cell_type": "code",
   "execution_count": 98,
   "id": "f83b510f",
   "metadata": {},
   "outputs": [
    {
     "name": "stdout",
     "output_type": "stream",
     "text": [
      "R2 Score 98.07814427056417\n",
      "Cross Val score 97.537641692849\n"
     ]
    }
   ],
   "source": [
    "Finalmod=RandomForestRegressor(criterion='mse', max_depth= 8, max_features= 'auto')\n",
    "Finalmod.fit(x_train,y_train)\n",
    "pred_final=Finalmod.predict(x_test)\n",
    "rfs=r2_score(y_test,pred_final)\n",
    "print('R2 Score', rfs*100)\n",
    "\n",
    "rfscore=cross_val_score(Finalmod,x,y,cv=5)\n",
    "rfc=rfscore.mean()\n",
    "print('Cross Val score', rfc*100)"
   ]
  },
  {
   "cell_type": "markdown",
   "id": "8590929d",
   "metadata": {},
   "source": [
    "We have got good accuracy of 98% on training and 97% on Cross validation"
   ]
  },
  {
   "cell_type": "markdown",
   "id": "a93b88cf",
   "metadata": {},
   "source": [
    "#### Lets Visualize our model"
   ]
  },
  {
   "cell_type": "code",
   "execution_count": 99,
   "id": "398fe816",
   "metadata": {},
   "outputs": [
    {
     "data": {
      "image/png": "[encoded data removed]",
      "text/plain": [
       "<Figure size 576x432 with 1 Axes>"
      ]
     },
     "metadata": {
      "needs_background": "light"
     },
     "output_type": "display_data"
    }
   ],
   "source": [
    "plt.figure(figsize=(8,6))\n",
    "plt.scatter(x=y_test,y=pred_final,color='r')\n",
    "plt.plot(y_test,y_test,color='b')\n",
    "plt.xlabel('Actual Sales',fontsize=14)\n",
    "plt.ylabel('Predicted Sales',fontsize=14)\n",
    "plt.title('RandomForestRegressor',fontsize=18)\n",
    "plt.show()"
   ]
  },
  {
   "cell_type": "markdown",
   "id": "2320c0a3",
   "metadata": {},
   "source": [
    "We can see that the line fits near the predicted values. Hence we can conclude our model is performing well."
   ]
  },
  {
   "cell_type": "markdown",
   "id": "00bfacd5",
   "metadata": {},
   "source": [
    "## Model Saving"
   ]
  },
  {
   "cell_type": "code",
   "execution_count": 100,
   "id": "93b06546",
   "metadata": {},
   "outputs": [],
   "source": [
    "import pickle\n",
    "filename = 'sales.pkl'\n",
    "pickle.dump(lr, open(filename, 'wb'))"
   ]
  },
  {
   "cell_type": "markdown",
   "id": "735818e1",
   "metadata": {},
   "source": [
    "# Conclusion:"
   ]
  },
  {
   "cell_type": "code",
   "execution_count": 103,
   "id": "c68c47c2",
   "metadata": {},
   "outputs": [
    {
     "data": {
      "text/html": [
       "<div>\n",
       "<style scoped>\n",
       "    .dataframe tbody tr th:only-of-type {\n",
       "        vertical-align: middle;\n",
       "    }\n",
       "\n",
       "    .dataframe tbody tr th {\n",
       "        vertical-align: top;\n",
       "    }\n",
       "\n",
       "    .dataframe thead th {\n",
       "        text-align: right;\n",
       "    }\n",
       "</style>\n",
       "<table border=\"1\" class=\"dataframe\">\n",
       "  <thead>\n",
       "    <tr style=\"text-align: right;\">\n",
       "      <th></th>\n",
       "      <th>original</th>\n",
       "      <th>predicted</th>\n",
       "    </tr>\n",
       "  </thead>\n",
       "  <tbody>\n",
       "    <tr>\n",
       "      <th>0</th>\n",
       "      <td>16.9</td>\n",
       "      <td>17.750827</td>\n",
       "    </tr>\n",
       "    <tr>\n",
       "      <th>1</th>\n",
       "      <td>22.4</td>\n",
       "      <td>21.516550</td>\n",
       "    </tr>\n",
       "    <tr>\n",
       "      <th>2</th>\n",
       "      <td>21.4</td>\n",
       "      <td>20.757881</td>\n",
       "    </tr>\n",
       "    <tr>\n",
       "      <th>3</th>\n",
       "      <td>7.3</td>\n",
       "      <td>6.463905</td>\n",
       "    </tr>\n",
       "    <tr>\n",
       "      <th>4</th>\n",
       "      <td>24.7</td>\n",
       "      <td>23.100500</td>\n",
       "    </tr>\n",
       "    <tr>\n",
       "      <th>5</th>\n",
       "      <td>12.6</td>\n",
       "      <td>13.425526</td>\n",
       "    </tr>\n",
       "    <tr>\n",
       "      <th>6</th>\n",
       "      <td>22.3</td>\n",
       "      <td>22.423300</td>\n",
       "    </tr>\n",
       "    <tr>\n",
       "      <th>7</th>\n",
       "      <td>8.4</td>\n",
       "      <td>9.565449</td>\n",
       "    </tr>\n",
       "    <tr>\n",
       "      <th>8</th>\n",
       "      <td>11.5</td>\n",
       "      <td>11.907987</td>\n",
       "    </tr>\n",
       "    <tr>\n",
       "      <th>9</th>\n",
       "      <td>14.9</td>\n",
       "      <td>15.445708</td>\n",
       "    </tr>\n",
       "  </tbody>\n",
       "</table>\n",
       "</div>"
      ],
      "text/plain": [
       "   original  predicted\n",
       "0      16.9  17.750827\n",
       "1      22.4  21.516550\n",
       "2      21.4  20.757881\n",
       "3       7.3   6.463905\n",
       "4      24.7  23.100500\n",
       "5      12.6  13.425526\n",
       "6      22.3  22.423300\n",
       "7       8.4   9.565449\n",
       "8      11.5  11.907987\n",
       "9      14.9  15.445708"
      ]
     },
     "execution_count": 103,
     "metadata": {},
     "output_type": "execute_result"
    }
   ],
   "source": [
    "import numpy as np\n",
    "a=np.array(y_test)\n",
    "predicted=np.array(Finalmod.predict(x_test))\n",
    "df_com=pd.DataFrame({\"original\":a,\"predicted\":predicted}, index= range(len(a)))\n",
    "df_com.head(10)"
   ]
  },
  {
   "cell_type": "code",
   "execution_count": null,
   "id": "6fdd0b04",
   "metadata": {},
   "outputs": [],
   "source": []
  }
 ],
 "metadata": {
  "kernelspec": {
   "display_name": "Python 3",
   "language": "python",
   "name": "python3"
  },
  "language_info": {
   "codemirror_mode": {
    "name": "ipython",
    "version": 3
   },
   "file_extension": ".py",
   "mimetype": "text/x-python",
   "name": "python",
   "nbconvert_exporter": "python",
   "pygments_lexer": "ipython3",
   "version": "3.8.8"
  }
 },
 "nbformat": 4,
 "nbformat_minor": 5
}
